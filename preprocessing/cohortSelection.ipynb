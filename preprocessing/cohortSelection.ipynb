{
 "cells": [
  {
   "cell_type": "code",
   "execution_count": 2,
   "metadata": {},
   "outputs": [],
   "source": [
    "import sys \n",
    "sys.path.insert(0, '/home/yikuan/project/Code/')"
   ]
  },
  {
   "cell_type": "code",
   "execution_count": 4,
   "metadata": {},
   "outputs": [],
   "source": [
    "import pandas as pd \n",
    "import numpy as np"
   ]
  },
  {
   "cell_type": "code",
   "execution_count": 1,
   "metadata": {},
   "outputs": [],
   "source": [
    "file_config = {\n",
    "#     'vocab':'/home/shared/01_data/01_dictionary/pureicd_vocab_diag',\n",
    "    'train': '/home/shared/yikuan/ACM/data/Depression/Depression_train.parquet/',\n",
    "    'test': '/home/shared/yikuan/ACM/data/Depression/Depression_test.parquet/',\n",
    "}\n",
    "params = {\n",
    "    'code': 'code'\n",
    "}\n"
   ]
  },
  {
   "cell_type": "code",
   "execution_count": 5,
   "metadata": {},
   "outputs": [],
   "source": [
    "data = pd.read_parquet(file_config['train'])\n",
    "tdata = pd.read_parquet(file_config['test'])\n",
    "total = pd.concat([data, tdata]).reset_index(drop=True)"
   ]
  },
  {
   "cell_type": "code",
   "execution_count": 6,
   "metadata": {},
   "outputs": [],
   "source": [
    "filteringDict = {\n",
    "    'deltaAge': 36,\n",
    "    'numSep': 10,\n",
    "    'unique_leng':10,\n",
    "#     'tfidf-threshold':1.5,\n",
    "    'months': 12\n",
    "}"
   ]
  },
  {
   "cell_type": "code",
   "execution_count": 7,
   "metadata": {},
   "outputs": [
    {
     "name": "stdout",
     "output_type": "stream",
     "text": [
      "begining: number of patient with label 0 and 1: 2633645,386961\n",
      "filtering by visit: number of patient with label 0 and 1: 1692397,313203\n",
      "filtering by time span: number of patient with label 0 and 1: 1379731,248345\n",
      "filtering by number of unique codes: number of patient with label 0 and 1: 1221749,235048\n"
     ]
    }
   ],
   "source": [
    "total['numSep'] = total[params['code']].apply(lambda x: len(np.where(x=='SEP')[0]))\n",
    "print('begining: number of patient with label 0 and 1: {},{}'.format(len(total[(total.label==0)]),len(total[(total.label==1)])))\n",
    "\n",
    "# keep patient with number of visits larger than numSep\n",
    "total = total[(total.numSep>filteringDict['numSep'])]\n",
    "total = total.reset_index(drop=True)\n",
    "print('filtering by visit: number of patient with label 0 and 1: {},{}'.format(len(total[(total.label==0)]),len(total[(total.label==1)])))\n",
    "\n",
    "# keep patient with records having time span larger than deltaAge\n",
    "total['deltaAge'] = total.age.apply(lambda x: int(x[-1]) - int(x[0]))\n",
    "total = total[total['deltaAge'] >filteringDict['deltaAge']]\n",
    "total = total.reset_index(drop=True)\n",
    "print('filtering by time span: number of patient with label 0 and 1: {},{}'.format(len(total[(total.label==0)]),len(total[(total.label==1)])))\n",
    "\n",
    "# keep patient with number of unique code larger than unique_leng\n",
    "total['unique_leng'] = total['code'].apply(lambda x: len(np.unique(x)))\n",
    "total = total[total['unique_leng'] >filteringDict['unique_leng']]\n",
    "total = total.reset_index(drop=True)\n",
    "print('filtering by number of unique codes: number of patient with label 0 and 1: {},{}'.format(len(total[(total.label==0)]),len(total[(total.label==1)])))"
   ]
  },
  {
   "cell_type": "code",
   "execution_count": 8,
   "metadata": {},
   "outputs": [],
   "source": [
    "# split\n",
    "import sklearn\n",
    "from sklearn.model_selection import train_test_split\n",
    "\n",
    "X_train, X_test = train_test_split(total, test_size=0.3, random_state=42)\n",
    "X_train.to_parquet('/home/shared/yikuan/ACM/data/Depression/Depression_clean_train.parquet')\n",
    "X_test.to_parquet('/home/shared/yikuan/ACM/data/Depression/Depression_clean_test.parquet')"
   ]
  }
 ],
 "metadata": {
  "kernelspec": {
   "display_name": "Python (py3)",
   "language": "python",
   "name": "py3"
  },
  "language_info": {
   "codemirror_mode": {
    "name": "ipython",
    "version": 3
   },
   "file_extension": ".py",
   "mimetype": "text/x-python",
   "name": "python",
   "nbconvert_exporter": "python",
   "pygments_lexer": "ipython3",
   "version": "3.7.3"
  }
 },
 "nbformat": 4,
 "nbformat_minor": 2
}
